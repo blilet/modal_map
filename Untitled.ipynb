{
 "cells": [
  {
   "cell_type": "code",
   "execution_count": 21,
   "id": "a29d3c9c",
   "metadata": {},
   "outputs": [],
   "source": [
    "layout = {0: (4.3191, -3.5352), 1: (0.5292, -0.5292),\n",
    "          2: (8.6559, -3.8008), 3: (12.4117, -7.5239),\n",
    "          4: (12.7, -1.7069), 5: (6.0022, -9.0323)}\n",
    "from network2tikz import plot\n",
    "n = 5\n",
    "nodes = [i+1 for i in range(5)]\n",
    "edges = []\n",
    "for i in range(5):\n",
    "    for j in range(5):\n",
    "        if E[i][j]>0:\n",
    "            edges.append((j+1,i+1))\n",
    "gender = ['f', 'm', 'f', 'm']\n",
    "colors = {'m': 'white', 'f': 'white'}\n",
    "\n",
    "style = {}\n",
    "\n",
    "style['node_label'] = [str(i) for i in nodes]\n",
    "style[\"vertex_label_position\"] = \"center\"\n",
    "#style['node_opacity'] = .5\n",
    "style['edge_curved'] = .1\n",
    "\n",
    "plot((nodes, edges), 'network.tex', **style, layout = layout)"
   ]
  },
  {
   "cell_type": "code",
   "execution_count": 10,
   "id": "ba45ce7b",
   "metadata": {},
   "outputs": [],
   "source": [
    "import numpy as np\n",
    "E = np.array([[0,3,0,0,6],\n",
    "              [3,0,0,0,0],\n",
    "              [3,3,0,0,0],\n",
    "              [2,2,2,0,2],\n",
    "              [0,2,3,3,0]])"
   ]
  },
  {
   "cell_type": "code",
   "execution_count": 23,
   "id": "7e9b0605",
   "metadata": {},
   "outputs": [
    {
     "name": "stdout",
     "output_type": "stream",
     "text": [
      "Undirected Graph Incidence Matrix with Random Values:\n",
      "[[0 2 0 0 0 6 0 0 0 4]\n",
      " [1 0 0 0 2 0 2 1 4 0]\n",
      " [0 0 0 5 5 1 1 1 1 4]\n",
      " [0 0 1 0 3 0 3 0 0 0]\n",
      " [0 4 1 4 0 1 6 0 3 4]\n",
      " [6 0 3 0 3 0 6 0 0 0]\n",
      " [0 6 3 1 2 2 0 0 3 1]\n",
      " [0 5 4 0 0 0 0 0 0 5]\n",
      " [0 3 6 0 2 0 5 0 0 5]\n",
      " [6 0 4 0 4 0 6 6 3 0]]\n"
     ]
    }
   ],
   "source": [
    "import numpy as np\n",
    "\n",
    "# Set the random seed for reproducibility\n",
    "np.random.seed(42)\n",
    "\n",
    "# Generate a random 10x10 matrix with values 0 or 1\n",
    "incidence_matrix = np.random.randint(2, size=(10, 10))\n",
    "\n",
    "# Make the matrix symmetric to represent an undirected graph\n",
    "incidence_matrix = np.triu(incidence_matrix) + np.triu(incidence_matrix, 1).T\n",
    "\n",
    "# Set the diagonal to 0 (no self-loops)\n",
    "np.fill_diagonal(incidence_matrix, 0)\n",
    "\n",
    "# Replace non-zero entries with random values from 1 to 6\n",
    "incidence_matrix = np.where(incidence_matrix == 1, np.random.randint(1, 7, size=incidence_matrix.shape), 0)\n",
    "\n",
    "print(\"Undirected Graph Incidence Matrix with Random Values:\")\n",
    "print(incidence_matrix)"
   ]
  },
  {
   "cell_type": "code",
   "execution_count": 3,
   "id": "cc4ea41e",
   "metadata": {},
   "outputs": [
    {
     "name": "stdout",
     "output_type": "stream",
     "text": [
      "Collecting network2tikz\n",
      "  Obtaining dependency information for network2tikz from https://files.pythonhosted.org/packages/90/e0/f9cb0821acef7b32f2f1474e2efda151d1b04707d9dd29701f9801fc2cfc/network2tikz-0.1.8-py2.py3-none-any.whl.metadata\n",
      "  Downloading network2tikz-0.1.8-py2.py3-none-any.whl.metadata (26 kB)\n",
      "Requirement already satisfied: numpy in /Users/timou/anaconda3/lib/python3.11/site-packages (from network2tikz) (1.24.3)\n",
      "Downloading network2tikz-0.1.8-py2.py3-none-any.whl (41 kB)\n",
      "\u001b[2K   \u001b[90m━━━━━━━━━━━━━━━━━━━━━━━━━━━━━━━━━━━━━━━━\u001b[0m \u001b[32m41.1/41.1 kB\u001b[0m \u001b[31m2.2 MB/s\u001b[0m eta \u001b[36m0:00:00\u001b[0m\n",
      "\u001b[?25hInstalling collected packages: network2tikz\n",
      "Successfully installed network2tikz-0.1.8\n",
      "Note: you may need to restart the kernel to use updated packages.\n"
     ]
    }
   ],
   "source": [
    "pip install network2tikz"
   ]
  }
 ],
 "metadata": {
  "kernelspec": {
   "display_name": "Python 3 (ipykernel)",
   "language": "python",
   "name": "python3"
  },
  "language_info": {
   "codemirror_mode": {
    "name": "ipython",
    "version": 3
   },
   "file_extension": ".py",
   "mimetype": "text/x-python",
   "name": "python",
   "nbconvert_exporter": "python",
   "pygments_lexer": "ipython3",
   "version": "3.11.5"
  }
 },
 "nbformat": 4,
 "nbformat_minor": 5
}
